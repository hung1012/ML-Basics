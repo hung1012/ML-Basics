{
  "nbformat": 4,
  "nbformat_minor": 5,
  "metadata": {
    "kernelspec": {
      "display_name": "Python 3",
      "language": "python",
      "name": "python3"
    },
    "language_info": {
      "codemirror_mode": {
        "name": "ipython",
        "version": 3
      },
      "file_extension": ".py",
      "mimetype": "text/x-python",
      "name": "python",
      "nbconvert_exporter": "python",
      "pygments_lexer": "ipython3",
      "version": "3.8.8"
    },
    "colab": {
      "name": "Numpy_Basics",
      "provenance": [],
      "collapsed_sections": [
        "10cdda01",
        "0889203f",
        "73e36dc5",
        "6b07a8e8",
        "95bf1152",
        "900cf025",
        "da30c589"
      ],
      "include_colab_link": true
    }
  },
  "cells": [
    {
      "cell_type": "markdown",
      "metadata": {
        "id": "view-in-github",
        "colab_type": "text"
      },
      "source": [
        "<a href=\"https://colab.research.google.com/github/hung1012/ML-Basics/blob/main/Numpy_Basics.ipynb\" target=\"_parent\"><img src=\"https://colab.research.google.com/assets/colab-badge.svg\" alt=\"Open In Colab\"/></a>"
      ]
    },
    {
      "cell_type": "code",
      "metadata": {
        "id": "3aebf2c0"
      },
      "source": [
        "import numpy as np\n"
      ],
      "id": "3aebf2c0",
      "execution_count": null,
      "outputs": []
    },
    {
      "cell_type": "markdown",
      "metadata": {
        "id": "8562c50f"
      },
      "source": [
        "# Creatting Numpy Array from Python List\n"
      ],
      "id": "8562c50f"
    },
    {
      "cell_type": "code",
      "metadata": {
        "id": "fc0d10c1",
        "outputId": "be948293-c391-4b10-d19a-08dece643709"
      },
      "source": [
        "np.array([1,2,3,4,5])"
      ],
      "id": "fc0d10c1",
      "execution_count": null,
      "outputs": [
        {
          "output_type": "execute_result",
          "data": {
            "text/plain": [
              "array([1, 2, 3, 4, 5])"
            ]
          },
          "metadata": {
            "tags": []
          },
          "execution_count": 7
        }
      ]
    },
    {
      "cell_type": "code",
      "metadata": {
        "id": "54ea152d",
        "outputId": "4ed5d3b2-0889-4b5d-9044-8f92ddfe5a53"
      },
      "source": [
        "np.array([3.14, 2, 3, 5])"
      ],
      "id": "54ea152d",
      "execution_count": null,
      "outputs": [
        {
          "output_type": "execute_result",
          "data": {
            "text/plain": [
              "array([3.14, 2.  , 3.  , 5.  ])"
            ]
          },
          "metadata": {
            "tags": []
          },
          "execution_count": 5
        }
      ]
    },
    {
      "cell_type": "code",
      "metadata": {
        "id": "b83d2b3c",
        "outputId": "60d363f2-9bed-4769-b7bd-e5e05b22ede7"
      },
      "source": [
        "np.array([1,2,3.4], dtype ='float')"
      ],
      "id": "b83d2b3c",
      "execution_count": null,
      "outputs": [
        {
          "output_type": "execute_result",
          "data": {
            "text/plain": [
              "array([1. , 2. , 3.4])"
            ]
          },
          "metadata": {
            "tags": []
          },
          "execution_count": 6
        }
      ]
    },
    {
      "cell_type": "code",
      "metadata": {
        "id": "770cd7e4"
      },
      "source": [
        "a1 = np.array([1,2,3,4])"
      ],
      "id": "770cd7e4",
      "execution_count": null,
      "outputs": []
    },
    {
      "cell_type": "code",
      "metadata": {
        "id": "bf851617",
        "outputId": "1fe9cad0-3a4e-4d0e-d76a-ee499595605f"
      },
      "source": [
        "type(a1)"
      ],
      "id": "bf851617",
      "execution_count": null,
      "outputs": [
        {
          "output_type": "execute_result",
          "data": {
            "text/plain": [
              "numpy.ndarray"
            ]
          },
          "metadata": {
            "tags": []
          },
          "execution_count": 9
        }
      ]
    },
    {
      "cell_type": "code",
      "metadata": {
        "id": "ad789c88",
        "outputId": "878b443b-3ae1-426a-802c-302e77609bc8"
      },
      "source": [
        "a1.shape"
      ],
      "id": "ad789c88",
      "execution_count": null,
      "outputs": [
        {
          "output_type": "execute_result",
          "data": {
            "text/plain": [
              "(4,)"
            ]
          },
          "metadata": {
            "tags": []
          },
          "execution_count": 11
        }
      ]
    },
    {
      "cell_type": "code",
      "metadata": {
        "id": "538a36d6",
        "outputId": "2ff153f0-4d8f-4744-afde-8a22f34497b1"
      },
      "source": [
        "a1.ndim\n"
      ],
      "id": "538a36d6",
      "execution_count": null,
      "outputs": [
        {
          "output_type": "execute_result",
          "data": {
            "text/plain": [
              "1"
            ]
          },
          "metadata": {
            "tags": []
          },
          "execution_count": 12
        }
      ]
    },
    {
      "cell_type": "code",
      "metadata": {
        "id": "8c70be0a",
        "outputId": "eebc9bb0-51f7-4562-8055-4a44564b1c0f"
      },
      "source": [
        "a1.size"
      ],
      "id": "8c70be0a",
      "execution_count": null,
      "outputs": [
        {
          "output_type": "execute_result",
          "data": {
            "text/plain": [
              "4"
            ]
          },
          "metadata": {
            "tags": []
          },
          "execution_count": 13
        }
      ]
    },
    {
      "cell_type": "markdown",
      "metadata": {
        "id": "d3aceda4"
      },
      "source": [
        "## Creating Numpy Array from Scratch\n",
        "## zeros, one, full, arange, linspace"
      ],
      "id": "d3aceda4"
    },
    {
      "cell_type": "code",
      "metadata": {
        "id": "17480cc7",
        "outputId": "4a4fe64d-086b-4fa9-89f0-02fec3b69cf8"
      },
      "source": [
        "np.zeros([2, 4], dtype = int)"
      ],
      "id": "17480cc7",
      "execution_count": null,
      "outputs": [
        {
          "output_type": "execute_result",
          "data": {
            "text/plain": [
              "array([[0, 0, 0, 0],\n",
              "       [0, 0, 0, 0]])"
            ]
          },
          "metadata": {
            "tags": []
          },
          "execution_count": 18
        }
      ]
    },
    {
      "cell_type": "code",
      "metadata": {
        "id": "978314b6",
        "outputId": "b6b6e158-5ea4-44b6-e729-5fc5dae28563"
      },
      "source": [
        "np.ones([3, 5], dtype = float)"
      ],
      "id": "978314b6",
      "execution_count": null,
      "outputs": [
        {
          "output_type": "execute_result",
          "data": {
            "text/plain": [
              "array([[1., 1., 1., 1., 1.],\n",
              "       [1., 1., 1., 1., 1.],\n",
              "       [1., 1., 1., 1., 1.]])"
            ]
          },
          "metadata": {
            "tags": []
          },
          "execution_count": 8
        }
      ]
    },
    {
      "cell_type": "code",
      "metadata": {
        "id": "0bc63ac0",
        "outputId": "b9461911-8d39-4b34-834d-24d441897e68"
      },
      "source": [
        "#Creating an array filled with a linear sequence\n",
        "#Staring at 0, ending at 20, stepping by 2\n",
        "#This is similar to the built-in rande() function\n",
        "np.arange(0, 20, 2)\n"
      ],
      "id": "0bc63ac0",
      "execution_count": null,
      "outputs": [
        {
          "output_type": "execute_result",
          "data": {
            "text/plain": [
              "array([ 0,  2,  4,  6,  8, 10, 12, 14, 16, 18])"
            ]
          },
          "metadata": {
            "tags": []
          },
          "execution_count": 25
        }
      ]
    },
    {
      "cell_type": "code",
      "metadata": {
        "id": "8085d315",
        "outputId": "73c63a05-9ee0-46e1-ac7d-d563406e9971"
      },
      "source": [
        "np.full((3,5), 6.9)"
      ],
      "id": "8085d315",
      "execution_count": null,
      "outputs": [
        {
          "output_type": "execute_result",
          "data": {
            "text/plain": [
              "array([[6.9, 6.9, 6.9, 6.9, 6.9],\n",
              "       [6.9, 6.9, 6.9, 6.9, 6.9],\n",
              "       [6.9, 6.9, 6.9, 6.9, 6.9]])"
            ]
          },
          "metadata": {
            "tags": []
          },
          "execution_count": 26
        }
      ]
    },
    {
      "cell_type": "code",
      "metadata": {
        "id": "316a33ac",
        "outputId": "9e7fdf86-f7fc-4a0e-818d-fd42a2bdac69"
      },
      "source": [
        "# Crate an array of five values evenly spaces between 0 and 1\n",
        "np.linspace(0,1,5)"
      ],
      "id": "316a33ac",
      "execution_count": null,
      "outputs": [
        {
          "output_type": "execute_result",
          "data": {
            "text/plain": [
              "array([0.  , 0.25, 0.5 , 0.75, 1.  ])"
            ]
          },
          "metadata": {
            "tags": []
          },
          "execution_count": 27
        }
      ]
    },
    {
      "cell_type": "markdown",
      "metadata": {
        "id": "10cdda01"
      },
      "source": [
        "# Random function"
      ],
      "id": "10cdda01"
    },
    {
      "cell_type": "code",
      "metadata": {
        "id": "d08caa7c",
        "outputId": "d8c83a46-fe86-4013-e613-859e4fb4bda6"
      },
      "source": [
        "#Seed for reproducibility\n",
        "np.random.seed(0)\n",
        "np.random.random((4,4))"
      ],
      "id": "d08caa7c",
      "execution_count": null,
      "outputs": [
        {
          "output_type": "execute_result",
          "data": {
            "text/plain": [
              "array([[0.5488135 , 0.71518937, 0.60276338, 0.54488318],\n",
              "       [0.4236548 , 0.64589411, 0.43758721, 0.891773  ],\n",
              "       [0.96366276, 0.38344152, 0.79172504, 0.52889492],\n",
              "       [0.56804456, 0.92559664, 0.07103606, 0.0871293 ]])"
            ]
          },
          "metadata": {
            "tags": []
          },
          "execution_count": 76
        }
      ]
    },
    {
      "cell_type": "code",
      "metadata": {
        "id": "5abbfca1",
        "outputId": "ad2e2577-3e04-4780-dbe7-ee1d4f434fbd"
      },
      "source": [
        "np.random.normal(0,1, (3,3))"
      ],
      "id": "5abbfca1",
      "execution_count": null,
      "outputs": [
        {
          "output_type": "execute_result",
          "data": {
            "text/plain": [
              "array([[ 0.44386323,  0.33367433,  1.49407907],\n",
              "       [-0.20515826,  0.3130677 , -0.85409574],\n",
              "       [-2.55298982,  0.6536186 ,  0.8644362 ]])"
            ]
          },
          "metadata": {
            "tags": []
          },
          "execution_count": 77
        }
      ]
    },
    {
      "cell_type": "code",
      "metadata": {
        "id": "973d36d7",
        "outputId": "49273d57-7c6e-4577-a0d7-6f9a46d1f62b"
      },
      "source": [
        "np.random.randint(0,10, (6,5))"
      ],
      "id": "973d36d7",
      "execution_count": null,
      "outputs": [
        {
          "output_type": "execute_result",
          "data": {
            "text/plain": [
              "array([[7, 4, 6, 7, 6],\n",
              "       [7, 4, 6, 7, 9],\n",
              "       [8, 5, 3, 7, 4],\n",
              "       [5, 2, 4, 5, 2],\n",
              "       [3, 4, 4, 9, 7],\n",
              "       [1, 5, 3, 8, 9]])"
            ]
          },
          "metadata": {
            "tags": []
          },
          "execution_count": 6
        }
      ]
    },
    {
      "cell_type": "markdown",
      "metadata": {
        "id": "0889203f"
      },
      "source": [
        "# Array Indexing & Slicing"
      ],
      "id": "0889203f"
    },
    {
      "cell_type": "markdown",
      "metadata": {
        "id": "73e36dc5"
      },
      "source": [
        "# One-dimensional subarray"
      ],
      "id": "73e36dc5"
    },
    {
      "cell_type": "code",
      "metadata": {
        "id": "c5a6c9e4",
        "outputId": "ac0f6c30-5e40-4903-baf2-2fc91d958d7d"
      },
      "source": [
        "x1 = np.random.randint(20, size = 6)\n",
        "x1"
      ],
      "id": "c5a6c9e4",
      "execution_count": null,
      "outputs": [
        {
          "output_type": "execute_result",
          "data": {
            "text/plain": [
              "array([ 3,  4, 14, 14, 18, 16])"
            ]
          },
          "metadata": {
            "tags": []
          },
          "execution_count": 10
        }
      ]
    },
    {
      "cell_type": "code",
      "metadata": {
        "id": "52518c8f",
        "outputId": "f99bdbd9-aecf-49b6-c1f9-0dd8c8a24d90"
      },
      "source": [
        "x1[4], x1[0], x1[-1]\n",
        "\n"
      ],
      "id": "52518c8f",
      "execution_count": null,
      "outputs": [
        {
          "output_type": "execute_result",
          "data": {
            "text/plain": [
              "(16, 14, 8)"
            ]
          },
          "metadata": {
            "tags": []
          },
          "execution_count": 13
        }
      ]
    },
    {
      "cell_type": "code",
      "metadata": {
        "id": "633faa63",
        "outputId": "24a8b25a-4100-499c-b542-d8a35df4a664"
      },
      "source": [
        "x2 = np.random.randint(10, size =(3,4))\n",
        "x2"
      ],
      "id": "633faa63",
      "execution_count": null,
      "outputs": [
        {
          "output_type": "execute_result",
          "data": {
            "text/plain": [
              "array([[7, 9, 6, 7],\n",
              "       [2, 0, 9, 3],\n",
              "       [3, 5, 3, 7]])"
            ]
          },
          "metadata": {
            "tags": []
          },
          "execution_count": 17
        }
      ]
    },
    {
      "cell_type": "code",
      "metadata": {
        "id": "ce080d2c",
        "outputId": "0c098791-324d-419c-94bd-6af422a6a264"
      },
      "source": [
        "x2[1,2] = 6\n",
        "x2"
      ],
      "id": "ce080d2c",
      "execution_count": null,
      "outputs": [
        {
          "output_type": "execute_result",
          "data": {
            "text/plain": [
              "array([[7, 9, 6, 7],\n",
              "       [2, 0, 6, 3],\n",
              "       [3, 5, 3, 7]])"
            ]
          },
          "metadata": {
            "tags": []
          },
          "execution_count": 21
        }
      ]
    },
    {
      "cell_type": "markdown",
      "metadata": {
        "id": "6b07a8e8"
      },
      "source": [
        "# Slicing"
      ],
      "id": "6b07a8e8"
    },
    {
      "cell_type": "code",
      "metadata": {
        "id": "20422aac",
        "outputId": "a3a37280-66e9-44ee-a39f-506fc99f65f8"
      },
      "source": [
        "x1"
      ],
      "id": "20422aac",
      "execution_count": null,
      "outputs": [
        {
          "output_type": "execute_result",
          "data": {
            "text/plain": [
              "array([ 3,  4, 14, 14, 18, 16])"
            ]
          },
          "metadata": {
            "tags": []
          },
          "execution_count": 11
        }
      ]
    },
    {
      "cell_type": "code",
      "metadata": {
        "id": "eeee1f67",
        "outputId": "4e5ecb20-8bb2-49a0-d716-6dc2ff5ffc2e"
      },
      "source": [
        "x1[0:3]"
      ],
      "id": "eeee1f67",
      "execution_count": null,
      "outputs": [
        {
          "output_type": "execute_result",
          "data": {
            "text/plain": [
              "array([14,  9,  6])"
            ]
          },
          "metadata": {
            "tags": []
          },
          "execution_count": 25
        }
      ]
    },
    {
      "cell_type": "code",
      "metadata": {
        "id": "b3babfd2",
        "outputId": "bd5c45ec-6a4c-45dd-8922-858de8e157df"
      },
      "source": [
        "x1[2:4]"
      ],
      "id": "b3babfd2",
      "execution_count": null,
      "outputs": [
        {
          "output_type": "execute_result",
          "data": {
            "text/plain": [
              "array([ 6, 11])"
            ]
          },
          "metadata": {
            "tags": []
          },
          "execution_count": 27
        }
      ]
    },
    {
      "cell_type": "code",
      "metadata": {
        "id": "17a9886f",
        "outputId": "bcede944-fbd8-4674-d990-db62238c208b"
      },
      "source": [
        "#every other element, every 2 steps\n",
        "x1[::2]"
      ],
      "id": "17a9886f",
      "execution_count": null,
      "outputs": [
        {
          "output_type": "execute_result",
          "data": {
            "text/plain": [
              "array([14,  6, 16])"
            ]
          },
          "metadata": {
            "tags": []
          },
          "execution_count": 29
        }
      ]
    },
    {
      "cell_type": "code",
      "metadata": {
        "id": "11223088",
        "outputId": "b9d625b3-aec1-4afa-c8bf-0de762fcff55"
      },
      "source": [
        "x2\n"
      ],
      "id": "11223088",
      "execution_count": null,
      "outputs": [
        {
          "output_type": "execute_result",
          "data": {
            "text/plain": [
              "array([[7, 9, 6, 7],\n",
              "       [2, 0, 6, 3],\n",
              "       [3, 5, 3, 7]])"
            ]
          },
          "metadata": {
            "tags": []
          },
          "execution_count": 31
        }
      ]
    },
    {
      "cell_type": "code",
      "metadata": {
        "id": "dbf55f0a",
        "outputId": "4c1bc850-acf0-4bbf-c723-6fad0732dc3e"
      },
      "source": [
        "#two rows and three colums\n",
        "x2[:2,:3]"
      ],
      "id": "dbf55f0a",
      "execution_count": null,
      "outputs": [
        {
          "output_type": "execute_result",
          "data": {
            "text/plain": [
              "array([[7, 9, 6],\n",
              "       [2, 0, 6]])"
            ]
          },
          "metadata": {
            "tags": []
          },
          "execution_count": 36
        }
      ]
    },
    {
      "cell_type": "markdown",
      "metadata": {
        "id": "95bf1152"
      },
      "source": [
        "# Reshaping of Arrays and Transpose"
      ],
      "id": "95bf1152"
    },
    {
      "cell_type": "code",
      "metadata": {
        "id": "37e15201",
        "outputId": "5e4c4476-9085-4927-ed37-7bbceadcbae9"
      },
      "source": [
        "grid = np.arange(1,10)\n",
        "grid.shape"
      ],
      "id": "37e15201",
      "execution_count": null,
      "outputs": [
        {
          "output_type": "execute_result",
          "data": {
            "text/plain": [
              "(9,)"
            ]
          },
          "metadata": {
            "tags": []
          },
          "execution_count": 12
        }
      ]
    },
    {
      "cell_type": "code",
      "metadata": {
        "id": "9975ea21",
        "outputId": "542ca50c-dae0-42c7-d80b-748599619b44"
      },
      "source": [
        "grid.reshape(3,3)"
      ],
      "id": "9975ea21",
      "execution_count": null,
      "outputs": [
        {
          "output_type": "execute_result",
          "data": {
            "text/plain": [
              "array([[1, 2, 3],\n",
              "       [4, 5, 6],\n",
              "       [7, 8, 9]])"
            ]
          },
          "metadata": {
            "tags": []
          },
          "execution_count": 43
        }
      ]
    },
    {
      "cell_type": "code",
      "metadata": {
        "id": "e3ddb828",
        "outputId": "8b4a34a7-7475-4556-c14d-b708a452fcf8"
      },
      "source": [
        "x = np.array([1,2,3])\n",
        "x.shape"
      ],
      "id": "e3ddb828",
      "execution_count": null,
      "outputs": [
        {
          "output_type": "execute_result",
          "data": {
            "text/plain": [
              "(3,)"
            ]
          },
          "metadata": {
            "tags": []
          },
          "execution_count": 13
        }
      ]
    },
    {
      "cell_type": "code",
      "metadata": {
        "id": "f8d1a5c8",
        "outputId": "fbdcd291-47e6-4b3e-afea-82f458c5d434"
      },
      "source": [
        "x.reshape(1,3).shape"
      ],
      "id": "f8d1a5c8",
      "execution_count": null,
      "outputs": [
        {
          "output_type": "execute_result",
          "data": {
            "text/plain": [
              "(1, 3)"
            ]
          },
          "metadata": {
            "tags": []
          },
          "execution_count": 14
        }
      ]
    },
    {
      "cell_type": "code",
      "metadata": {
        "id": "dedd133b",
        "outputId": "3218cc29-1552-4daf-e806-4d509379c855"
      },
      "source": [
        "x = np.arange(1,5, dtype = float)\n",
        "x = x.reshape(2,2)\n",
        "x"
      ],
      "id": "dedd133b",
      "execution_count": null,
      "outputs": [
        {
          "output_type": "execute_result",
          "data": {
            "text/plain": [
              "array([[1., 2.],\n",
              "       [3., 4.]])"
            ]
          },
          "metadata": {
            "tags": []
          },
          "execution_count": 15
        }
      ]
    },
    {
      "cell_type": "code",
      "metadata": {
        "id": "2ac61572",
        "outputId": "3d8ac963-3525-457c-9ff4-2a32f6bbba1b"
      },
      "source": [
        "x.T"
      ],
      "id": "2ac61572",
      "execution_count": null,
      "outputs": [
        {
          "output_type": "execute_result",
          "data": {
            "text/plain": [
              "array([[1., 3.],\n",
              "       [2., 4.]])"
            ]
          },
          "metadata": {
            "tags": []
          },
          "execution_count": 18
        }
      ]
    },
    {
      "cell_type": "markdown",
      "metadata": {
        "id": "900cf025"
      },
      "source": [
        "# Array Concatenation and Splitting"
      ],
      "id": "900cf025"
    },
    {
      "cell_type": "code",
      "metadata": {
        "id": "85768f0c",
        "colab": {
          "base_uri": "https://localhost:8080/",
          "height": 178
        },
        "outputId": "05393b5c-9ad6-4029-f6e4-637edcc802c9"
      },
      "source": [
        "x = np.array([1,2,3])\n",
        "y = np.array([3,2,1])"
      ],
      "id": "85768f0c",
      "execution_count": null,
      "outputs": [
        {
          "output_type": "error",
          "ename": "NameError",
          "evalue": "ignored",
          "traceback": [
            "\u001b[0;31m---------------------------------------------------------------------------\u001b[0m",
            "\u001b[0;31mNameError\u001b[0m                                 Traceback (most recent call last)",
            "\u001b[0;32m<ipython-input-1-b883c5c7c61a>\u001b[0m in \u001b[0;36m<module>\u001b[0;34m()\u001b[0m\n\u001b[0;32m----> 1\u001b[0;31m \u001b[0mx\u001b[0m \u001b[0;34m=\u001b[0m \u001b[0mnp\u001b[0m\u001b[0;34m.\u001b[0m\u001b[0marray\u001b[0m\u001b[0;34m(\u001b[0m\u001b[0;34m[\u001b[0m\u001b[0;36m1\u001b[0m\u001b[0;34m,\u001b[0m\u001b[0;36m2\u001b[0m\u001b[0;34m,\u001b[0m\u001b[0;36m3\u001b[0m\u001b[0;34m]\u001b[0m\u001b[0;34m)\u001b[0m\u001b[0;34m\u001b[0m\u001b[0;34m\u001b[0m\u001b[0m\n\u001b[0m\u001b[1;32m      2\u001b[0m \u001b[0my\u001b[0m \u001b[0;34m=\u001b[0m \u001b[0mnp\u001b[0m\u001b[0;34m.\u001b[0m\u001b[0marray\u001b[0m\u001b[0;34m(\u001b[0m\u001b[0;34m[\u001b[0m\u001b[0;36m3\u001b[0m\u001b[0;34m,\u001b[0m\u001b[0;36m2\u001b[0m\u001b[0;34m,\u001b[0m\u001b[0;36m1\u001b[0m\u001b[0;34m]\u001b[0m\u001b[0;34m)\u001b[0m\u001b[0;34m\u001b[0m\u001b[0;34m\u001b[0m\u001b[0m\n",
            "\u001b[0;31mNameError\u001b[0m: name 'np' is not defined"
          ]
        }
      ]
    },
    {
      "cell_type": "code",
      "metadata": {
        "id": "216a7ecd"
      },
      "source": [
        "np.concatenate((x,y), axis = 0)"
      ],
      "id": "216a7ecd",
      "execution_count": null,
      "outputs": []
    },
    {
      "cell_type": "code",
      "metadata": {
        "id": "f25551cd"
      },
      "source": [
        "grid = np.array([[1,2,3],\n",
        "               [4,5,6]])"
      ],
      "id": "f25551cd",
      "execution_count": null,
      "outputs": []
    },
    {
      "cell_type": "code",
      "metadata": {
        "id": "2bcc2be3"
      },
      "source": [
        "grid"
      ],
      "id": "2bcc2be3",
      "execution_count": null,
      "outputs": []
    },
    {
      "cell_type": "code",
      "metadata": {
        "id": "c4e2b26c"
      },
      "source": [
        "np.concatenate((grid,grid))"
      ],
      "id": "c4e2b26c",
      "execution_count": null,
      "outputs": []
    },
    {
      "cell_type": "code",
      "metadata": {
        "id": "0f220e7e"
      },
      "source": [
        "#vstack\n",
        "x = np.array([1,2,3])\n",
        "grid = np.array([[9,8,7],\n",
        "                 [6,5,4]])"
      ],
      "id": "0f220e7e",
      "execution_count": null,
      "outputs": []
    },
    {
      "cell_type": "code",
      "metadata": {
        "id": "76fe5292"
      },
      "source": [
        "np.vstack((x, grid))"
      ],
      "id": "76fe5292",
      "execution_count": null,
      "outputs": []
    },
    {
      "cell_type": "code",
      "metadata": {
        "id": "1c6bea48"
      },
      "source": [
        "#hstack\n",
        "y = np.array([[99],\n",
        "              [99]])\n",
        "np.hstack((y, grid))"
      ],
      "id": "1c6bea48",
      "execution_count": null,
      "outputs": []
    },
    {
      "cell_type": "markdown",
      "metadata": {
        "id": "da30c589"
      },
      "source": [
        "# Spliting of arrays"
      ],
      "id": "da30c589"
    },
    {
      "cell_type": "code",
      "metadata": {
        "id": "6088c65b"
      },
      "source": [
        "x = np.array([1,2,3,99,69,3,2,1])"
      ],
      "id": "6088c65b",
      "execution_count": null,
      "outputs": []
    },
    {
      "cell_type": "code",
      "metadata": {
        "id": "843f5a9b"
      },
      "source": [
        "x1, x2, x3 = np.split(x, [3,5])"
      ],
      "id": "843f5a9b",
      "execution_count": null,
      "outputs": []
    },
    {
      "cell_type": "code",
      "metadata": {
        "id": "58335f72",
        "outputId": "9b62503e-dfe6-4372-b0fa-52dbceccddbb"
      },
      "source": [
        "x1"
      ],
      "id": "58335f72",
      "execution_count": null,
      "outputs": [
        {
          "output_type": "execute_result",
          "data": {
            "text/plain": [
              "array([1, 2, 3])"
            ]
          },
          "metadata": {
            "tags": []
          },
          "execution_count": 52
        }
      ]
    },
    {
      "cell_type": "code",
      "metadata": {
        "id": "a42b4da8",
        "outputId": "b6999f68-1523-4940-fc70-1a2db3ffb3ad"
      },
      "source": [
        "x2"
      ],
      "id": "a42b4da8",
      "execution_count": null,
      "outputs": [
        {
          "output_type": "execute_result",
          "data": {
            "text/plain": [
              "array([99, 69])"
            ]
          },
          "metadata": {
            "tags": []
          },
          "execution_count": 54
        }
      ]
    },
    {
      "cell_type": "code",
      "metadata": {
        "id": "0e0b63f3",
        "outputId": "270cf07e-0d54-4a0f-bb48-9d0397f83a49"
      },
      "source": [
        "x3"
      ],
      "id": "0e0b63f3",
      "execution_count": null,
      "outputs": [
        {
          "output_type": "execute_result",
          "data": {
            "text/plain": [
              "array([3, 2, 1])"
            ]
          },
          "metadata": {
            "tags": []
          },
          "execution_count": 55
        }
      ]
    }
  ]
}