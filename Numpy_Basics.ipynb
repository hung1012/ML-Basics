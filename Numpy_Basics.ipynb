{
  "nbformat": 4,
  "nbformat_minor": 5,
  "metadata": {
    "kernelspec": {
      "display_name": "Python 3",
      "language": "python",
      "name": "python3"
    },
    "language_info": {
      "codemirror_mode": {
        "name": "ipython",
        "version": 3
      },
      "file_extension": ".py",
      "mimetype": "text/x-python",
      "name": "python",
      "nbconvert_exporter": "python",
      "pygments_lexer": "ipython3",
      "version": "3.8.8"
    },
    "colab": {
      "name": "Numpy_Basics",
      "provenance": [],
      "collapsed_sections": [
        "0889203f",
        "6b07a8e8",
        "95bf1152",
        "900cf025",
        "da30c589"
      ],
      "include_colab_link": true
    }
  },
  "cells": [
    {
      "cell_type": "markdown",
      "metadata": {
        "id": "view-in-github",
        "colab_type": "text"
      },
      "source": [
        "<a href=\"https://colab.research.google.com/github/hung1012/ML-Basics/blob/main/Numpy_Basics.ipynb\" target=\"_parent\"><img src=\"https://colab.research.google.com/assets/colab-badge.svg\" alt=\"Open In Colab\"/></a>"
      ]
    },
    {
      "cell_type": "code",
      "metadata": {
        "id": "3aebf2c0"
      },
      "source": [
        "import numpy as np\n"
      ],
      "id": "3aebf2c0",
      "execution_count": null,
      "outputs": []
    },
    {
      "cell_type": "markdown",
      "metadata": {
        "id": "8562c50f"
      },
      "source": [
        "# Creatting Numpy Array from Python List\n"
      ],
      "id": "8562c50f"
    },
    {
      "cell_type": "code",
      "metadata": {
        "id": "fc0d10c1",
        "colab": {
          "base_uri": "https://localhost:8080/"
        },
        "outputId": "f22afcff-eb17-41fb-b70a-c78dc3af22da"
      },
      "source": [
        "np.array([1,2,3,4,5])"
      ],
      "id": "fc0d10c1",
      "execution_count": null,
      "outputs": [
        {
          "output_type": "execute_result",
          "data": {
            "text/plain": [
              "array([1, 2, 3, 4, 5])"
            ]
          },
          "metadata": {
            "tags": []
          },
          "execution_count": 2
        }
      ]
    },
    {
      "cell_type": "code",
      "metadata": {
        "id": "54ea152d",
        "colab": {
          "base_uri": "https://localhost:8080/"
        },
        "outputId": "490e51c4-99f0-4e0a-bc6b-8cc8f3bb4c58"
      },
      "source": [
        "np.array([3.14, 2, 3, 5])"
      ],
      "id": "54ea152d",
      "execution_count": null,
      "outputs": [
        {
          "output_type": "execute_result",
          "data": {
            "text/plain": [
              "array([3.14, 2.  , 3.  , 5.  ])"
            ]
          },
          "metadata": {
            "tags": []
          },
          "execution_count": 3
        }
      ]
    },
    {
      "cell_type": "code",
      "metadata": {
        "id": "b83d2b3c",
        "colab": {
          "base_uri": "https://localhost:8080/"
        },
        "outputId": "33944b2b-e85e-49a6-c30a-8c090a5aaa83"
      },
      "source": [
        "np.array([1,2,3.4], dtype ='float')"
      ],
      "id": "b83d2b3c",
      "execution_count": null,
      "outputs": [
        {
          "output_type": "execute_result",
          "data": {
            "text/plain": [
              "array([1. , 2. , 3.4])"
            ]
          },
          "metadata": {
            "tags": []
          },
          "execution_count": 4
        }
      ]
    },
    {
      "cell_type": "code",
      "metadata": {
        "id": "770cd7e4"
      },
      "source": [
        "a1 = np.array([1,2,3,4])"
      ],
      "id": "770cd7e4",
      "execution_count": null,
      "outputs": []
    },
    {
      "cell_type": "code",
      "metadata": {
        "id": "bf851617",
        "colab": {
          "base_uri": "https://localhost:8080/"
        },
        "outputId": "d3a83b20-5a4f-4b79-bf4d-6936b972f893"
      },
      "source": [
        "type(a1)"
      ],
      "id": "bf851617",
      "execution_count": null,
      "outputs": [
        {
          "output_type": "execute_result",
          "data": {
            "text/plain": [
              "numpy.ndarray"
            ]
          },
          "metadata": {
            "tags": []
          },
          "execution_count": 6
        }
      ]
    },
    {
      "cell_type": "code",
      "metadata": {
        "id": "ad789c88",
        "colab": {
          "base_uri": "https://localhost:8080/"
        },
        "outputId": "6d0a9443-cf8b-4453-ee25-81e53b12bd7d"
      },
      "source": [
        "a1.shape"
      ],
      "id": "ad789c88",
      "execution_count": null,
      "outputs": [
        {
          "output_type": "execute_result",
          "data": {
            "text/plain": [
              "(4,)"
            ]
          },
          "metadata": {
            "tags": []
          },
          "execution_count": 7
        }
      ]
    },
    {
      "cell_type": "code",
      "metadata": {
        "id": "538a36d6",
        "colab": {
          "base_uri": "https://localhost:8080/"
        },
        "outputId": "16c2c169-8420-4e32-ce29-43d36fefa930"
      },
      "source": [
        "a1.ndim\n"
      ],
      "id": "538a36d6",
      "execution_count": null,
      "outputs": [
        {
          "output_type": "execute_result",
          "data": {
            "text/plain": [
              "1"
            ]
          },
          "metadata": {
            "tags": []
          },
          "execution_count": 8
        }
      ]
    },
    {
      "cell_type": "code",
      "metadata": {
        "id": "8c70be0a",
        "colab": {
          "base_uri": "https://localhost:8080/"
        },
        "outputId": "2ac1a6a3-3c8a-429a-ae98-0561fd065702"
      },
      "source": [
        "a1.size"
      ],
      "id": "8c70be0a",
      "execution_count": null,
      "outputs": [
        {
          "output_type": "execute_result",
          "data": {
            "text/plain": [
              "4"
            ]
          },
          "metadata": {
            "tags": []
          },
          "execution_count": 9
        }
      ]
    },
    {
      "cell_type": "markdown",
      "metadata": {
        "id": "d3aceda4"
      },
      "source": [
        "## Creating Numpy Array from Scratch\n",
        "## zeros, one, full, arange, linspace"
      ],
      "id": "d3aceda4"
    },
    {
      "cell_type": "code",
      "metadata": {
        "id": "17480cc7",
        "colab": {
          "base_uri": "https://localhost:8080/"
        },
        "outputId": "0429fd1a-69bd-4766-a845-9165578d423e"
      },
      "source": [
        "np.zeros([2, 4], dtype = int)"
      ],
      "id": "17480cc7",
      "execution_count": null,
      "outputs": [
        {
          "output_type": "execute_result",
          "data": {
            "text/plain": [
              "array([[0, 0, 0, 0],\n",
              "       [0, 0, 0, 0]])"
            ]
          },
          "metadata": {
            "tags": []
          },
          "execution_count": 10
        }
      ]
    },
    {
      "cell_type": "code",
      "metadata": {
        "id": "978314b6",
        "colab": {
          "base_uri": "https://localhost:8080/"
        },
        "outputId": "486fd70d-04ff-4307-bac1-52bc2616dcf6"
      },
      "source": [
        "np.ones([3, 5], dtype = float)"
      ],
      "id": "978314b6",
      "execution_count": null,
      "outputs": [
        {
          "output_type": "execute_result",
          "data": {
            "text/plain": [
              "array([[1., 1., 1., 1., 1.],\n",
              "       [1., 1., 1., 1., 1.],\n",
              "       [1., 1., 1., 1., 1.]])"
            ]
          },
          "metadata": {
            "tags": []
          },
          "execution_count": 11
        }
      ]
    },
    {
      "cell_type": "code",
      "metadata": {
        "id": "0bc63ac0",
        "colab": {
          "base_uri": "https://localhost:8080/"
        },
        "outputId": "d20907b4-26c6-4472-887d-093c8868d65f"
      },
      "source": [
        "#Creating an array filled with a linear sequence\n",
        "#Staring at 0, ending at 20, stepping by 2\n",
        "#This is similar to the built-in rande() function\n",
        "np.arange(0, 20, 2)\n"
      ],
      "id": "0bc63ac0",
      "execution_count": null,
      "outputs": [
        {
          "output_type": "execute_result",
          "data": {
            "text/plain": [
              "array([ 0,  2,  4,  6,  8, 10, 12, 14, 16, 18])"
            ]
          },
          "metadata": {
            "tags": []
          },
          "execution_count": 12
        }
      ]
    },
    {
      "cell_type": "code",
      "metadata": {
        "id": "8085d315",
        "colab": {
          "base_uri": "https://localhost:8080/"
        },
        "outputId": "e1afdbfa-cdc2-4894-a904-d99f96a09e98"
      },
      "source": [
        "np.full((3,5), 6.9)"
      ],
      "id": "8085d315",
      "execution_count": null,
      "outputs": [
        {
          "output_type": "execute_result",
          "data": {
            "text/plain": [
              "array([[6.9, 6.9, 6.9, 6.9, 6.9],\n",
              "       [6.9, 6.9, 6.9, 6.9, 6.9],\n",
              "       [6.9, 6.9, 6.9, 6.9, 6.9]])"
            ]
          },
          "metadata": {
            "tags": []
          },
          "execution_count": 13
        }
      ]
    },
    {
      "cell_type": "code",
      "metadata": {
        "id": "316a33ac",
        "colab": {
          "base_uri": "https://localhost:8080/"
        },
        "outputId": "6c1f8cdc-8316-483d-e742-97cdcb60da2d"
      },
      "source": [
        "# Crate an array of five values evenly spaces between 0 and 1\n",
        "np.linspace(0,1,9)"
      ],
      "id": "316a33ac",
      "execution_count": null,
      "outputs": [
        {
          "output_type": "execute_result",
          "data": {
            "text/plain": [
              "array([0.   , 0.125, 0.25 , 0.375, 0.5  , 0.625, 0.75 , 0.875, 1.   ])"
            ]
          },
          "metadata": {
            "tags": []
          },
          "execution_count": 14
        }
      ]
    },
    {
      "cell_type": "markdown",
      "metadata": {
        "id": "10cdda01"
      },
      "source": [
        "# Random function"
      ],
      "id": "10cdda01"
    },
    {
      "cell_type": "code",
      "metadata": {
        "id": "d08caa7c",
        "colab": {
          "base_uri": "https://localhost:8080/"
        },
        "outputId": "0adf3967-c686-48ab-ec0c-9961ebfaf118"
      },
      "source": [
        "#Seed for reproducibility\n",
        "np.random.seed(0)\n",
        "np.random.random((4,4))"
      ],
      "id": "d08caa7c",
      "execution_count": null,
      "outputs": [
        {
          "output_type": "execute_result",
          "data": {
            "text/plain": [
              "array([[0.5488135 , 0.71518937, 0.60276338, 0.54488318],\n",
              "       [0.4236548 , 0.64589411, 0.43758721, 0.891773  ],\n",
              "       [0.96366276, 0.38344152, 0.79172504, 0.52889492],\n",
              "       [0.56804456, 0.92559664, 0.07103606, 0.0871293 ]])"
            ]
          },
          "metadata": {
            "tags": []
          },
          "execution_count": 15
        }
      ]
    },
    {
      "cell_type": "code",
      "metadata": {
        "id": "5abbfca1",
        "colab": {
          "base_uri": "https://localhost:8080/"
        },
        "outputId": "37650264-8645-48e5-e759-60183c85b04e"
      },
      "source": [
        "np.random.normal(0,1, (3,3))"
      ],
      "id": "5abbfca1",
      "execution_count": null,
      "outputs": [
        {
          "output_type": "execute_result",
          "data": {
            "text/plain": [
              "array([[ 0.44386323,  0.33367433,  1.49407907],\n",
              "       [-0.20515826,  0.3130677 , -0.85409574],\n",
              "       [-2.55298982,  0.6536186 ,  0.8644362 ]])"
            ]
          },
          "metadata": {
            "tags": []
          },
          "execution_count": 16
        }
      ]
    },
    {
      "cell_type": "code",
      "metadata": {
        "id": "973d36d7",
        "colab": {
          "base_uri": "https://localhost:8080/"
        },
        "outputId": "ad86c29a-a9de-4bc6-a01d-32d9ee0902ee"
      },
      "source": [
        "np.random.randint(0,10, (6,5))"
      ],
      "id": "973d36d7",
      "execution_count": null,
      "outputs": [
        {
          "output_type": "execute_result",
          "data": {
            "text/plain": [
              "array([[7, 2, 0, 0, 4],\n",
              "       [5, 5, 6, 8, 4],\n",
              "       [1, 4, 9, 8, 1],\n",
              "       [1, 7, 9, 9, 3],\n",
              "       [6, 7, 2, 0, 3],\n",
              "       [5, 9, 4, 4, 6]])"
            ]
          },
          "metadata": {
            "tags": []
          },
          "execution_count": 17
        }
      ]
    },
    {
      "cell_type": "markdown",
      "metadata": {
        "id": "0889203f"
      },
      "source": [
        "# Array Indexing & Slicing"
      ],
      "id": "0889203f"
    },
    {
      "cell_type": "markdown",
      "metadata": {
        "id": "73e36dc5"
      },
      "source": [
        "# One-dimensional subarray"
      ],
      "id": "73e36dc5"
    },
    {
      "cell_type": "code",
      "metadata": {
        "id": "c5a6c9e4",
        "colab": {
          "base_uri": "https://localhost:8080/"
        },
        "outputId": "0ac4f4e1-e7f8-4e3c-a584-10281a83a7f5"
      },
      "source": [
        "x1 = np.random.randint(20, size = 6)\n",
        "x1"
      ],
      "id": "c5a6c9e4",
      "execution_count": null,
      "outputs": [
        {
          "output_type": "execute_result",
          "data": {
            "text/plain": [
              "array([ 4, 15,  3, 12,  4,  8])"
            ]
          },
          "metadata": {
            "tags": []
          },
          "execution_count": 18
        }
      ]
    },
    {
      "cell_type": "code",
      "metadata": {
        "id": "52518c8f",
        "colab": {
          "base_uri": "https://localhost:8080/"
        },
        "outputId": "1df271d6-63f8-4394-a87f-73a95794d13e"
      },
      "source": [
        "x1[4], x1[0], x1[-1]\n",
        "\n"
      ],
      "id": "52518c8f",
      "execution_count": null,
      "outputs": [
        {
          "output_type": "execute_result",
          "data": {
            "text/plain": [
              "(4, 4, 8)"
            ]
          },
          "metadata": {
            "tags": []
          },
          "execution_count": 19
        }
      ]
    },
    {
      "cell_type": "code",
      "metadata": {
        "id": "633faa63",
        "colab": {
          "base_uri": "https://localhost:8080/"
        },
        "outputId": "0b9f659c-de43-4217-c774-48b4f81cc407"
      },
      "source": [
        "x2 = np.random.randint(10, size =(3,4))\n",
        "x2"
      ],
      "id": "633faa63",
      "execution_count": null,
      "outputs": [
        {
          "output_type": "execute_result",
          "data": {
            "text/plain": [
              "array([[4, 3, 7, 5],\n",
              "       [5, 0, 1, 5],\n",
              "       [9, 3, 0, 5]])"
            ]
          },
          "metadata": {
            "tags": []
          },
          "execution_count": 20
        }
      ]
    },
    {
      "cell_type": "code",
      "metadata": {
        "id": "ce080d2c",
        "colab": {
          "base_uri": "https://localhost:8080/"
        },
        "outputId": "d3d4177c-9d63-4b56-be1b-43af76f07dba"
      },
      "source": [
        "x2[1,2] = 6\n",
        "x2"
      ],
      "id": "ce080d2c",
      "execution_count": null,
      "outputs": [
        {
          "output_type": "execute_result",
          "data": {
            "text/plain": [
              "array([[4, 3, 7, 5],\n",
              "       [5, 0, 6, 5],\n",
              "       [9, 3, 0, 5]])"
            ]
          },
          "metadata": {
            "tags": []
          },
          "execution_count": 21
        }
      ]
    },
    {
      "cell_type": "markdown",
      "metadata": {
        "id": "6b07a8e8"
      },
      "source": [
        "# Slicing"
      ],
      "id": "6b07a8e8"
    },
    {
      "cell_type": "code",
      "metadata": {
        "id": "20422aac",
        "colab": {
          "base_uri": "https://localhost:8080/"
        },
        "outputId": "651e6120-23ab-45c8-d7b3-815073bbe7f7"
      },
      "source": [
        "x1"
      ],
      "id": "20422aac",
      "execution_count": null,
      "outputs": [
        {
          "output_type": "execute_result",
          "data": {
            "text/plain": [
              "array([ 4, 15,  3, 12,  4,  8])"
            ]
          },
          "metadata": {
            "tags": []
          },
          "execution_count": 22
        }
      ]
    },
    {
      "cell_type": "code",
      "metadata": {
        "id": "eeee1f67",
        "colab": {
          "base_uri": "https://localhost:8080/"
        },
        "outputId": "1c370251-ab58-47a1-c399-f898bc86655a"
      },
      "source": [
        "x1[0:3]"
      ],
      "id": "eeee1f67",
      "execution_count": null,
      "outputs": [
        {
          "output_type": "execute_result",
          "data": {
            "text/plain": [
              "array([ 4, 15,  3])"
            ]
          },
          "metadata": {
            "tags": []
          },
          "execution_count": 23
        }
      ]
    },
    {
      "cell_type": "code",
      "metadata": {
        "id": "b3babfd2",
        "colab": {
          "base_uri": "https://localhost:8080/"
        },
        "outputId": "ff0a267a-0a25-4736-f328-88df0daee2fd"
      },
      "source": [
        "x1[2:4]"
      ],
      "id": "b3babfd2",
      "execution_count": null,
      "outputs": [
        {
          "output_type": "execute_result",
          "data": {
            "text/plain": [
              "array([ 3, 12])"
            ]
          },
          "metadata": {
            "tags": []
          },
          "execution_count": 24
        }
      ]
    },
    {
      "cell_type": "code",
      "metadata": {
        "id": "17a9886f",
        "colab": {
          "base_uri": "https://localhost:8080/"
        },
        "outputId": "4015c2f3-a406-4d04-f142-485f45e84fbd"
      },
      "source": [
        "#every other element, every 2 steps\n",
        "x1[::2]"
      ],
      "id": "17a9886f",
      "execution_count": null,
      "outputs": [
        {
          "output_type": "execute_result",
          "data": {
            "text/plain": [
              "array([4, 3, 4])"
            ]
          },
          "metadata": {
            "tags": []
          },
          "execution_count": 25
        }
      ]
    },
    {
      "cell_type": "code",
      "metadata": {
        "id": "11223088",
        "colab": {
          "base_uri": "https://localhost:8080/"
        },
        "outputId": "39eb11ab-3c45-4d1e-ebb9-2e5e7f5cc7d3"
      },
      "source": [
        "x2\n"
      ],
      "id": "11223088",
      "execution_count": null,
      "outputs": [
        {
          "output_type": "execute_result",
          "data": {
            "text/plain": [
              "array([[4, 3, 7, 5],\n",
              "       [5, 0, 6, 5],\n",
              "       [9, 3, 0, 5]])"
            ]
          },
          "metadata": {
            "tags": []
          },
          "execution_count": 26
        }
      ]
    },
    {
      "cell_type": "code",
      "metadata": {
        "id": "dbf55f0a",
        "colab": {
          "base_uri": "https://localhost:8080/"
        },
        "outputId": "ba53f8e0-29c4-46fc-e77c-fa2033266027"
      },
      "source": [
        "#two rows and three colums\n",
        "x2[:2,:3]"
      ],
      "id": "dbf55f0a",
      "execution_count": null,
      "outputs": [
        {
          "output_type": "execute_result",
          "data": {
            "text/plain": [
              "array([[4, 3, 7],\n",
              "       [5, 0, 6]])"
            ]
          },
          "metadata": {
            "tags": []
          },
          "execution_count": 27
        }
      ]
    },
    {
      "cell_type": "markdown",
      "metadata": {
        "id": "95bf1152"
      },
      "source": [
        "# Reshaping of Arrays and Transpose"
      ],
      "id": "95bf1152"
    },
    {
      "cell_type": "code",
      "metadata": {
        "id": "37e15201",
        "colab": {
          "base_uri": "https://localhost:8080/"
        },
        "outputId": "58aa6413-8dd6-47d5-8809-825006814c6c"
      },
      "source": [
        "grid = np.arange(1,10)\n",
        "grid"
      ],
      "id": "37e15201",
      "execution_count": null,
      "outputs": [
        {
          "output_type": "execute_result",
          "data": {
            "text/plain": [
              "array([1, 2, 3, 4, 5, 6, 7, 8, 9])"
            ]
          },
          "metadata": {
            "tags": []
          },
          "execution_count": 28
        }
      ]
    },
    {
      "cell_type": "code",
      "metadata": {
        "id": "9975ea21",
        "colab": {
          "base_uri": "https://localhost:8080/"
        },
        "outputId": "2e02be63-d724-48d5-d5dd-b381cbdfc22e"
      },
      "source": [
        "grid.reshape(3,3)"
      ],
      "id": "9975ea21",
      "execution_count": null,
      "outputs": [
        {
          "output_type": "execute_result",
          "data": {
            "text/plain": [
              "array([[1, 2, 3],\n",
              "       [4, 5, 6],\n",
              "       [7, 8, 9]])"
            ]
          },
          "metadata": {
            "tags": []
          },
          "execution_count": 29
        }
      ]
    },
    {
      "cell_type": "code",
      "metadata": {
        "id": "e3ddb828",
        "colab": {
          "base_uri": "https://localhost:8080/"
        },
        "outputId": "71ba1571-ad22-4748-8795-ef4e1b6f7084"
      },
      "source": [
        "x = np.array([1,2,3])\n",
        "x.shape"
      ],
      "id": "e3ddb828",
      "execution_count": null,
      "outputs": [
        {
          "output_type": "execute_result",
          "data": {
            "text/plain": [
              "(3,)"
            ]
          },
          "metadata": {
            "tags": []
          },
          "execution_count": 30
        }
      ]
    },
    {
      "cell_type": "code",
      "metadata": {
        "id": "f8d1a5c8",
        "colab": {
          "base_uri": "https://localhost:8080/"
        },
        "outputId": "b3859e68-5b42-4118-efb2-806b047a1e51"
      },
      "source": [
        "x.reshape(1,3).shape"
      ],
      "id": "f8d1a5c8",
      "execution_count": null,
      "outputs": [
        {
          "output_type": "execute_result",
          "data": {
            "text/plain": [
              "(1, 3)"
            ]
          },
          "metadata": {
            "tags": []
          },
          "execution_count": 31
        }
      ]
    },
    {
      "cell_type": "code",
      "metadata": {
        "id": "dedd133b",
        "colab": {
          "base_uri": "https://localhost:8080/"
        },
        "outputId": "b48617da-ae61-4c9a-f680-75bbc5eebbf2"
      },
      "source": [
        "x = np.arange(1,5, dtype = float)\n",
        "x = x.reshape(2,2)\n",
        "x"
      ],
      "id": "dedd133b",
      "execution_count": null,
      "outputs": [
        {
          "output_type": "execute_result",
          "data": {
            "text/plain": [
              "array([[1., 2.],\n",
              "       [3., 4.]])"
            ]
          },
          "metadata": {
            "tags": []
          },
          "execution_count": 32
        }
      ]
    },
    {
      "cell_type": "code",
      "metadata": {
        "id": "2ac61572",
        "colab": {
          "base_uri": "https://localhost:8080/"
        },
        "outputId": "42114e69-fd5c-41b8-c984-26b3df0b848f"
      },
      "source": [
        "x.T"
      ],
      "id": "2ac61572",
      "execution_count": null,
      "outputs": [
        {
          "output_type": "execute_result",
          "data": {
            "text/plain": [
              "array([[1., 3.],\n",
              "       [2., 4.]])"
            ]
          },
          "metadata": {
            "tags": []
          },
          "execution_count": 33
        }
      ]
    },
    {
      "cell_type": "markdown",
      "metadata": {
        "id": "900cf025"
      },
      "source": [
        "# Array Concatenation and Splitting"
      ],
      "id": "900cf025"
    },
    {
      "cell_type": "code",
      "metadata": {
        "id": "85768f0c"
      },
      "source": [
        "x = np.array([1,2,3])\n",
        "y = np.array([3,2,1])"
      ],
      "id": "85768f0c",
      "execution_count": null,
      "outputs": []
    },
    {
      "cell_type": "code",
      "metadata": {
        "id": "216a7ecd",
        "colab": {
          "base_uri": "https://localhost:8080/"
        },
        "outputId": "8dcccafc-0195-4f84-bce8-c161891b821c"
      },
      "source": [
        "np.concatenate((x,y), axis = 0)"
      ],
      "id": "216a7ecd",
      "execution_count": null,
      "outputs": [
        {
          "output_type": "execute_result",
          "data": {
            "text/plain": [
              "array([1, 2, 3, 3, 2, 1])"
            ]
          },
          "metadata": {
            "tags": []
          },
          "execution_count": 35
        }
      ]
    },
    {
      "cell_type": "code",
      "metadata": {
        "id": "f25551cd"
      },
      "source": [
        "grid = np.array([[1,2,3],\n",
        "               [4,5,6]])"
      ],
      "id": "f25551cd",
      "execution_count": null,
      "outputs": []
    },
    {
      "cell_type": "code",
      "metadata": {
        "id": "2bcc2be3",
        "colab": {
          "base_uri": "https://localhost:8080/"
        },
        "outputId": "1f7b01c8-2969-4b9b-be1f-0550c981278d"
      },
      "source": [
        "grid"
      ],
      "id": "2bcc2be3",
      "execution_count": null,
      "outputs": [
        {
          "output_type": "execute_result",
          "data": {
            "text/plain": [
              "array([[1, 2, 3],\n",
              "       [4, 5, 6]])"
            ]
          },
          "metadata": {
            "tags": []
          },
          "execution_count": 37
        }
      ]
    },
    {
      "cell_type": "code",
      "metadata": {
        "id": "c4e2b26c",
        "colab": {
          "base_uri": "https://localhost:8080/"
        },
        "outputId": "767b31e0-ed17-41b7-fc07-7707830ad5d0"
      },
      "source": [
        "np.concatenate((grid,grid), axis = 1)"
      ],
      "id": "c4e2b26c",
      "execution_count": null,
      "outputs": [
        {
          "output_type": "execute_result",
          "data": {
            "text/plain": [
              "array([[1, 2, 3, 1, 2, 3],\n",
              "       [4, 5, 6, 4, 5, 6]])"
            ]
          },
          "metadata": {
            "tags": []
          },
          "execution_count": 38
        }
      ]
    },
    {
      "cell_type": "code",
      "metadata": {
        "id": "0f220e7e"
      },
      "source": [
        "#vstack\n",
        "x = np.array([1,2,3])\n",
        "grid = np.array([[9,8,7],\n",
        "                 [6,5,4]])"
      ],
      "id": "0f220e7e",
      "execution_count": null,
      "outputs": []
    },
    {
      "cell_type": "code",
      "metadata": {
        "id": "76fe5292",
        "colab": {
          "base_uri": "https://localhost:8080/"
        },
        "outputId": "3f0b1b94-af41-4702-c9d8-6cae29675d84"
      },
      "source": [
        "np.vstack((x, grid))"
      ],
      "id": "76fe5292",
      "execution_count": null,
      "outputs": [
        {
          "output_type": "execute_result",
          "data": {
            "text/plain": [
              "array([[1, 2, 3],\n",
              "       [9, 8, 7],\n",
              "       [6, 5, 4]])"
            ]
          },
          "metadata": {
            "tags": []
          },
          "execution_count": 40
        }
      ]
    },
    {
      "cell_type": "code",
      "metadata": {
        "id": "1c6bea48",
        "colab": {
          "base_uri": "https://localhost:8080/"
        },
        "outputId": "31667d01-a3d4-4a9e-e77f-a6e004fc10bf"
      },
      "source": [
        "#hstack\n",
        "y = np.array([[99],\n",
        "              [99]])\n",
        "np.hstack((y, grid))"
      ],
      "id": "1c6bea48",
      "execution_count": null,
      "outputs": [
        {
          "output_type": "execute_result",
          "data": {
            "text/plain": [
              "array([[99,  9,  8,  7],\n",
              "       [99,  6,  5,  4]])"
            ]
          },
          "metadata": {
            "tags": []
          },
          "execution_count": 41
        }
      ]
    },
    {
      "cell_type": "markdown",
      "metadata": {
        "id": "da30c589"
      },
      "source": [
        "# Spliting of arrays"
      ],
      "id": "da30c589"
    },
    {
      "cell_type": "code",
      "metadata": {
        "id": "6088c65b"
      },
      "source": [
        "x = np.array([1,2,3,99,69,3,2,1])"
      ],
      "id": "6088c65b",
      "execution_count": null,
      "outputs": []
    },
    {
      "cell_type": "code",
      "metadata": {
        "id": "843f5a9b"
      },
      "source": [
        "x1, x2, x3 = np.split(x, [3,5])"
      ],
      "id": "843f5a9b",
      "execution_count": null,
      "outputs": []
    },
    {
      "cell_type": "code",
      "metadata": {
        "id": "58335f72",
        "colab": {
          "base_uri": "https://localhost:8080/"
        },
        "outputId": "29d5e00d-ea4d-43bc-9a29-e9ad524f8a2f"
      },
      "source": [
        "x1"
      ],
      "id": "58335f72",
      "execution_count": null,
      "outputs": [
        {
          "output_type": "execute_result",
          "data": {
            "text/plain": [
              "array([1, 2, 3])"
            ]
          },
          "metadata": {
            "tags": []
          },
          "execution_count": 44
        }
      ]
    },
    {
      "cell_type": "code",
      "metadata": {
        "id": "a42b4da8",
        "colab": {
          "base_uri": "https://localhost:8080/"
        },
        "outputId": "3114d7f1-dce6-4c49-cb73-1e33a6c4d129"
      },
      "source": [
        "x2"
      ],
      "id": "a42b4da8",
      "execution_count": null,
      "outputs": [
        {
          "output_type": "execute_result",
          "data": {
            "text/plain": [
              "array([99, 69])"
            ]
          },
          "metadata": {
            "tags": []
          },
          "execution_count": 45
        }
      ]
    },
    {
      "cell_type": "code",
      "metadata": {
        "id": "0e0b63f3",
        "colab": {
          "base_uri": "https://localhost:8080/"
        },
        "outputId": "61b41166-88b3-47fd-bfb0-9f74c1f88304"
      },
      "source": [
        "x3"
      ],
      "id": "0e0b63f3",
      "execution_count": null,
      "outputs": [
        {
          "output_type": "execute_result",
          "data": {
            "text/plain": [
              "array([3, 2, 1])"
            ]
          },
          "metadata": {
            "tags": []
          },
          "execution_count": 46
        }
      ]
    },
    {
      "cell_type": "code",
      "metadata": {
        "id": "yU7r65kAI6Qq"
      },
      "source": [
        ""
      ],
      "id": "yU7r65kAI6Qq",
      "execution_count": null,
      "outputs": []
    },
    {
      "cell_type": "markdown",
      "metadata": {
        "id": "GbEzIVlDI7k1"
      },
      "source": [
        "# Broadcasting and Vectorised Operations"
      ],
      "id": "GbEzIVlDI7k1"
    },
    {
      "cell_type": "code",
      "metadata": {
        "id": "xn9uME7_k-pT"
      },
      "source": [
        "a = np.arange(3)"
      ],
      "id": "xn9uME7_k-pT",
      "execution_count": null,
      "outputs": []
    },
    {
      "cell_type": "code",
      "metadata": {
        "colab": {
          "base_uri": "https://localhost:8080/"
        },
        "id": "8MSuUhiVlPPj",
        "outputId": "dd04de10-5043-4892-86d8-4d2b1cb21bf8"
      },
      "source": [
        "a+5 #Broadcasting"
      ],
      "id": "8MSuUhiVlPPj",
      "execution_count": null,
      "outputs": [
        {
          "output_type": "execute_result",
          "data": {
            "text/plain": [
              "array([5, 6, 7])"
            ]
          },
          "metadata": {
            "tags": []
          },
          "execution_count": 5
        }
      ]
    },
    {
      "cell_type": "code",
      "metadata": {
        "colab": {
          "base_uri": "https://localhost:8080/"
        },
        "id": "vRGBFC6alXmW",
        "outputId": "b0524ada-ecc4-4dea-b29d-b1045d3cf0e9"
      },
      "source": [
        "b = np.ones((3,3))\n",
        "b"
      ],
      "id": "vRGBFC6alXmW",
      "execution_count": null,
      "outputs": [
        {
          "output_type": "execute_result",
          "data": {
            "text/plain": [
              "array([[1., 1., 1.],\n",
              "       [1., 1., 1.],\n",
              "       [1., 1., 1.]])"
            ]
          },
          "metadata": {
            "tags": []
          },
          "execution_count": 9
        }
      ]
    },
    {
      "cell_type": "code",
      "metadata": {
        "colab": {
          "base_uri": "https://localhost:8080/"
        },
        "id": "PwUnWduLllse",
        "outputId": "605e81fa-dc49-4ea1-834f-e6b381c67634"
      },
      "source": [
        "b + [0,1,2]"
      ],
      "id": "PwUnWduLllse",
      "execution_count": null,
      "outputs": [
        {
          "output_type": "execute_result",
          "data": {
            "text/plain": [
              "array([[1., 2., 3.],\n",
              "       [1., 2., 3.],\n",
              "       [1., 2., 3.]])"
            ]
          },
          "metadata": {
            "tags": []
          },
          "execution_count": 13
        }
      ]
    },
    {
      "cell_type": "code",
      "metadata": {
        "colab": {
          "base_uri": "https://localhost:8080/"
        },
        "id": "YZZ-hbo6l6YU",
        "outputId": "dd0b45e4-17a5-4394-b1bc-fecc5a21daec"
      },
      "source": [
        "c = np.arange(3).reshape(3,1)\n",
        "c"
      ],
      "id": "YZZ-hbo6l6YU",
      "execution_count": null,
      "outputs": [
        {
          "output_type": "execute_result",
          "data": {
            "text/plain": [
              "array([[0],\n",
              "       [1],\n",
              "       [2]])"
            ]
          },
          "metadata": {
            "tags": []
          },
          "execution_count": 16
        }
      ]
    },
    {
      "cell_type": "code",
      "metadata": {
        "colab": {
          "base_uri": "https://localhost:8080/"
        },
        "id": "VLCmHm2omDsq",
        "outputId": "59262a02-93a6-4594-89e3-9a2419209af1"
      },
      "source": [
        "a+c"
      ],
      "id": "VLCmHm2omDsq",
      "execution_count": null,
      "outputs": [
        {
          "output_type": "execute_result",
          "data": {
            "text/plain": [
              "array([[0, 1, 2],\n",
              "       [1, 2, 3],\n",
              "       [2, 3, 4]])"
            ]
          },
          "metadata": {
            "tags": []
          },
          "execution_count": 19
        }
      ]
    },
    {
      "cell_type": "code",
      "metadata": {
        "id": "GpHSFsinmPbw"
      },
      "source": [
        ""
      ],
      "id": "GpHSFsinmPbw",
      "execution_count": null,
      "outputs": []
    },
    {
      "cell_type": "code",
      "metadata": {
        "id": "kIyaquFLmRG-"
      },
      "source": [
        ""
      ],
      "id": "kIyaquFLmRG-",
      "execution_count": null,
      "outputs": []
    },
    {
      "cell_type": "markdown",
      "metadata": {
        "id": "1s3mJxXVmPz3"
      },
      "source": [
        "# Manipulating & Comparing Array"
      ],
      "id": "1s3mJxXVmPz3"
    },
    {
      "cell_type": "markdown",
      "metadata": {
        "id": "88pql8zZmmBB"
      },
      "source": [
        "#Aggregation\n",
        "Aggregation = perform the same operation on a number of things"
      ],
      "id": "88pql8zZmmBB"
    },
    {
      "cell_type": "code",
      "metadata": {
        "id": "P9uaK1b4msWJ"
      },
      "source": [
        "list_number = [1,2,3]"
      ],
      "id": "P9uaK1b4msWJ",
      "execution_count": null,
      "outputs": []
    },
    {
      "cell_type": "code",
      "metadata": {
        "id": "MUm9ootHnAVi"
      },
      "source": [
        "ll = np.array(list_number)"
      ],
      "id": "MUm9ootHnAVi",
      "execution_count": null,
      "outputs": []
    },
    {
      "cell_type": "code",
      "metadata": {
        "colab": {
          "base_uri": "https://localhost:8080/"
        },
        "id": "w8EpwSqXnH68",
        "outputId": "6679cbaf-c1db-4568-d2c4-9771cb4956b2"
      },
      "source": [
        "ll"
      ],
      "id": "w8EpwSqXnH68",
      "execution_count": null,
      "outputs": [
        {
          "output_type": "execute_result",
          "data": {
            "text/plain": [
              "array([1, 2, 3])"
            ]
          },
          "metadata": {
            "tags": []
          },
          "execution_count": 25
        }
      ]
    },
    {
      "cell_type": "code",
      "metadata": {
        "colab": {
          "base_uri": "https://localhost:8080/"
        },
        "id": "-e-4JBsRnN76",
        "outputId": "044d6f2a-72e8-4bc8-eafb-5ba2f86bde16"
      },
      "source": [
        "sum(ll) #Python sum()"
      ],
      "id": "-e-4JBsRnN76",
      "execution_count": null,
      "outputs": [
        {
          "output_type": "execute_result",
          "data": {
            "text/plain": [
              "6"
            ]
          },
          "metadata": {
            "tags": []
          },
          "execution_count": 27
        }
      ]
    },
    {
      "cell_type": "code",
      "metadata": {
        "colab": {
          "base_uri": "https://localhost:8080/"
        },
        "id": "zsRRqSmTnStA",
        "outputId": "3a602234-0a7f-4461-85a8-0520b38f9785"
      },
      "source": [
        "np.sum(ll) #Numpy sum()"
      ],
      "id": "zsRRqSmTnStA",
      "execution_count": null,
      "outputs": [
        {
          "output_type": "execute_result",
          "data": {
            "text/plain": [
              "6"
            ]
          },
          "metadata": {
            "tags": []
          },
          "execution_count": 30
        }
      ]
    },
    {
      "cell_type": "code",
      "metadata": {
        "colab": {
          "base_uri": "https://localhost:8080/"
        },
        "id": "nqwYAX3MnYzi",
        "outputId": "13a312c8-5d79-4afc-d45f-3ee89c55818d"
      },
      "source": [
        "# Creatung a massive Numpy array\n",
        "massive_array = np.random.random(10000)\n",
        "massive_array[:5]\n",
        "massive_array.shape"
      ],
      "id": "nqwYAX3MnYzi",
      "execution_count": null,
      "outputs": [
        {
          "output_type": "execute_result",
          "data": {
            "text/plain": [
              "(10000,)"
            ]
          },
          "metadata": {
            "tags": []
          },
          "execution_count": 33
        }
      ]
    },
    {
      "cell_type": "code",
      "metadata": {
        "colab": {
          "base_uri": "https://localhost:8080/"
        },
        "id": "WGKNA1cQn-CW",
        "outputId": "be84c990-f36e-49a9-ec37-8765b56623fd"
      },
      "source": [
        "%timeit sum(massive_array)  #Python builtin funtion sum()\n",
        "%timeit np.sum(massive_array)  #Numpy's np.sum()"
      ],
      "id": "WGKNA1cQn-CW",
      "execution_count": null,
      "outputs": [
        {
          "output_type": "stream",
          "text": [
            "1000 loops, best of 5: 1.59 ms per loop\n",
            "The slowest run took 15.41 times longer than the fastest. This could mean that an intermediate result is being cached.\n",
            "100000 loops, best of 5: 9.9 µs per loop\n"
          ],
          "name": "stdout"
        }
      ]
    },
    {
      "cell_type": "markdown",
      "metadata": {
        "id": "_-nQIys0p5Xt"
      },
      "source": [
        "Example about Standard Deviation and Variance"
      ],
      "id": "_-nQIys0p5Xt"
    },
    {
      "cell_type": "code",
      "metadata": {
        "id": "SfOJAj5nqE_O"
      },
      "source": [
        "dog_height = [600,470,170,430,300]"
      ],
      "id": "SfOJAj5nqE_O",
      "execution_count": null,
      "outputs": []
    },
    {
      "cell_type": "code",
      "metadata": {
        "id": "2SBBm5CXqLZ6"
      },
      "source": [
        "dog_height = np.array(dog_height)"
      ],
      "id": "2SBBm5CXqLZ6",
      "execution_count": null,
      "outputs": []
    },
    {
      "cell_type": "code",
      "metadata": {
        "colab": {
          "base_uri": "https://localhost:8080/"
        },
        "id": "MO5wGdAsqQKV",
        "outputId": "19ea26b6-41fb-4d69-a58a-51db2367b0c8"
      },
      "source": [
        "np.std(dog_height)"
      ],
      "id": "MO5wGdAsqQKV",
      "execution_count": null,
      "outputs": [
        {
          "output_type": "execute_result",
          "data": {
            "text/plain": [
              "147.32277488562318"
            ]
          },
          "metadata": {
            "tags": []
          },
          "execution_count": 39
        }
      ]
    },
    {
      "cell_type": "code",
      "metadata": {
        "colab": {
          "base_uri": "https://localhost:8080/"
        },
        "id": "IsPGADd9qW1T",
        "outputId": "eb330632-5e50-4334-e55d-3f88699b3dcf"
      },
      "source": [
        "np.var(dog_height)"
      ],
      "id": "IsPGADd9qW1T",
      "execution_count": null,
      "outputs": [
        {
          "output_type": "execute_result",
          "data": {
            "text/plain": [
              "21704.0"
            ]
          },
          "metadata": {
            "tags": []
          },
          "execution_count": 41
        }
      ]
    },
    {
      "cell_type": "code",
      "metadata": {
        "id": "Gfyg5Jayq0Xe"
      },
      "source": [
        ""
      ],
      "id": "Gfyg5Jayq0Xe",
      "execution_count": null,
      "outputs": []
    },
    {
      "cell_type": "markdown",
      "metadata": {
        "id": "RTbAtaURq09I"
      },
      "source": [
        "# Sorting Arrays\n",
        "np.sort uses an quicksort algorithm"
      ],
      "id": "RTbAtaURq09I"
    },
    {
      "cell_type": "code",
      "metadata": {
        "colab": {
          "base_uri": "https://localhost:8080/"
        },
        "id": "6vxwHkhLrAH-",
        "outputId": "1f90ada6-e240-4853-8b82-e1c7b53bd7f9"
      },
      "source": [
        "x = np.array([2,1,4,3,5])\n",
        "np.sort(x)"
      ],
      "id": "6vxwHkhLrAH-",
      "execution_count": null,
      "outputs": [
        {
          "output_type": "execute_result",
          "data": {
            "text/plain": [
              "array([1, 2, 3, 4, 5])"
            ]
          },
          "metadata": {
            "tags": []
          },
          "execution_count": 43
        }
      ]
    },
    {
      "cell_type": "code",
      "metadata": {
        "colab": {
          "base_uri": "https://localhost:8080/"
        },
        "id": "_pIFQsOurGxo",
        "outputId": "60fed712-acc6-4251-b0e5-3a2fcf7aaa0b"
      },
      "source": [
        "# sort by index\n",
        "np.argsort(x)"
      ],
      "id": "_pIFQsOurGxo",
      "execution_count": null,
      "outputs": [
        {
          "output_type": "execute_result",
          "data": {
            "text/plain": [
              "array([1, 0, 3, 2, 4])"
            ]
          },
          "metadata": {
            "tags": []
          },
          "execution_count": 45
        }
      ]
    },
    {
      "cell_type": "code",
      "metadata": {
        "id": "4waN0SqhrUfU"
      },
      "source": [
        "np.random.seed(42)\n",
        "\n",
        "MatA = np.random.randint(0,10, size=(4,6))"
      ],
      "id": "4waN0SqhrUfU",
      "execution_count": null,
      "outputs": []
    },
    {
      "cell_type": "code",
      "metadata": {
        "colab": {
          "base_uri": "https://localhost:8080/"
        },
        "id": "M2FJRw9ArleZ",
        "outputId": "ec6539e4-4929-4b65-9be6-6ca036ac3e21"
      },
      "source": [
        "MatA"
      ],
      "id": "M2FJRw9ArleZ",
      "execution_count": null,
      "outputs": [
        {
          "output_type": "execute_result",
          "data": {
            "text/plain": [
              "array([[6, 3, 7, 4, 6, 9],\n",
              "       [2, 6, 7, 4, 3, 7],\n",
              "       [7, 2, 5, 4, 1, 7],\n",
              "       [5, 1, 4, 0, 9, 5]])"
            ]
          },
          "metadata": {
            "tags": []
          },
          "execution_count": 50
        }
      ]
    },
    {
      "cell_type": "code",
      "metadata": {
        "colab": {
          "base_uri": "https://localhost:8080/"
        },
        "id": "4StQQtiKr_Ml",
        "outputId": "91c71449-a5e5-4513-fdec-5b8ba5a7dc15"
      },
      "source": [
        "np.sort(MatA, axis=0)"
      ],
      "id": "4StQQtiKr_Ml",
      "execution_count": null,
      "outputs": [
        {
          "output_type": "execute_result",
          "data": {
            "text/plain": [
              "array([[2, 1, 4, 0, 1, 5],\n",
              "       [5, 2, 5, 4, 3, 7],\n",
              "       [6, 3, 7, 4, 6, 7],\n",
              "       [7, 6, 7, 4, 9, 9]])"
            ]
          },
          "metadata": {
            "tags": []
          },
          "execution_count": 52
        }
      ]
    },
    {
      "cell_type": "code",
      "metadata": {
        "colab": {
          "base_uri": "https://localhost:8080/"
        },
        "id": "BpdpbMlLsIQF",
        "outputId": "7cb37a55-1f98-4edf-dabf-714e293f9b83"
      },
      "source": [
        "np.sort(MatA, axis = 1)"
      ],
      "id": "BpdpbMlLsIQF",
      "execution_count": null,
      "outputs": [
        {
          "output_type": "execute_result",
          "data": {
            "text/plain": [
              "array([[3, 4, 6, 6, 7, 9],\n",
              "       [2, 3, 4, 6, 7, 7],\n",
              "       [1, 2, 4, 5, 7, 7],\n",
              "       [0, 1, 4, 5, 5, 9]])"
            ]
          },
          "metadata": {
            "tags": []
          },
          "execution_count": 54
        }
      ]
    },
    {
      "cell_type": "markdown",
      "metadata": {
        "id": "yx-b6MXGsVhw"
      },
      "source": [
        "# Linear Algebra"
      ],
      "id": "yx-b6MXGsVhw"
    },
    {
      "cell_type": "code",
      "metadata": {
        "id": "IV_txJK7sZXi"
      },
      "source": [
        "A = np.array([[1,2,3],\n",
        "              [4,5,6],\n",
        "              [7,8,9]])"
      ],
      "id": "IV_txJK7sZXi",
      "execution_count": null,
      "outputs": []
    },
    {
      "cell_type": "code",
      "metadata": {
        "id": "Liu9yclWslmj"
      },
      "source": [
        "B = np.array([[6,5],\n",
        "              [4,3],\n",
        "              [2,1]])"
      ],
      "id": "Liu9yclWslmj",
      "execution_count": null,
      "outputs": []
    },
    {
      "cell_type": "code",
      "metadata": {
        "id": "We-fa-RnssdG"
      },
      "source": [
        "# A(3x3) dot product B(3x2)"
      ],
      "id": "We-fa-RnssdG",
      "execution_count": null,
      "outputs": []
    },
    {
      "cell_type": "code",
      "metadata": {
        "colab": {
          "base_uri": "https://localhost:8080/"
        },
        "id": "nI_fJRcFsxN7",
        "outputId": "50d25c21-836b-480d-a4ff-8e682e845998"
      },
      "source": [
        "A.dot(B)"
      ],
      "id": "nI_fJRcFsxN7",
      "execution_count": null,
      "outputs": [
        {
          "output_type": "execute_result",
          "data": {
            "text/plain": [
              "array([[20, 14],\n",
              "       [56, 41],\n",
              "       [92, 68]])"
            ]
          },
          "metadata": {
            "tags": []
          },
          "execution_count": 61
        }
      ]
    },
    {
      "cell_type": "markdown",
      "metadata": {
        "id": "HulM2sTq0Zp7"
      },
      "source": [
        "# Dot production Example"
      ],
      "id": "HulM2sTq0Zp7"
    },
    {
      "cell_type": "code",
      "metadata": {
        "id": "ZQzwxJUq0gXE"
      },
      "source": [
        "# Number of jar sold\n",
        "np.random.seed(0)\n",
        "\n",
        "sales_amounts = np.random.randint(20, size = (5,3))"
      ],
      "id": "ZQzwxJUq0gXE",
      "execution_count": null,
      "outputs": []
    },
    {
      "cell_type": "code",
      "metadata": {
        "colab": {
          "base_uri": "https://localhost:8080/"
        },
        "id": "Vb_BdjXc05Zf",
        "outputId": "acf07561-a0f1-4c2f-911d-0c092f4e69da"
      },
      "source": [
        "sales_amounts"
      ],
      "id": "Vb_BdjXc05Zf",
      "execution_count": null,
      "outputs": [
        {
          "output_type": "execute_result",
          "data": {
            "text/plain": [
              "array([[12, 15,  0],\n",
              "       [ 3,  3,  7],\n",
              "       [ 9, 19, 18],\n",
              "       [ 4,  6, 12],\n",
              "       [ 1,  6,  7]])"
            ]
          },
          "metadata": {
            "tags": []
          },
          "execution_count": 66
        }
      ]
    },
    {
      "cell_type": "code",
      "metadata": {
        "id": "mseAAsvp07Ep"
      },
      "source": [
        "#Create weekly_sales DataFrame\n",
        "import pandas as pd\n",
        "\n",
        "weekly_sales = pd.DataFrame(sales_amounts, index = [\"Mon\", \"Tues\",\"Wed\",\"Thurs\", \"Fri\"],\n",
        "                            columns = [\"Aloumd Butter\", \"Peanut Butter\", \"Cashew Butter\"])"
      ],
      "id": "mseAAsvp07Ep",
      "execution_count": null,
      "outputs": []
    },
    {
      "cell_type": "code",
      "metadata": {
        "colab": {
          "base_uri": "https://localhost:8080/",
          "height": 203
        },
        "id": "Vm_LX_2B1pUf",
        "outputId": "b4e02dff-8d96-4b59-b257-04ba187a4570"
      },
      "source": [
        "weekly_sales"
      ],
      "id": "Vm_LX_2B1pUf",
      "execution_count": null,
      "outputs": [
        {
          "output_type": "execute_result",
          "data": {
            "text/html": [
              "<div>\n",
              "<style scoped>\n",
              "    .dataframe tbody tr th:only-of-type {\n",
              "        vertical-align: middle;\n",
              "    }\n",
              "\n",
              "    .dataframe tbody tr th {\n",
              "        vertical-align: top;\n",
              "    }\n",
              "\n",
              "    .dataframe thead th {\n",
              "        text-align: right;\n",
              "    }\n",
              "</style>\n",
              "<table border=\"1\" class=\"dataframe\">\n",
              "  <thead>\n",
              "    <tr style=\"text-align: right;\">\n",
              "      <th></th>\n",
              "      <th>Aloumd Butter</th>\n",
              "      <th>Peanut Butter</th>\n",
              "      <th>Cashew Butter</th>\n",
              "    </tr>\n",
              "  </thead>\n",
              "  <tbody>\n",
              "    <tr>\n",
              "      <th>Mon</th>\n",
              "      <td>12</td>\n",
              "      <td>15</td>\n",
              "      <td>0</td>\n",
              "    </tr>\n",
              "    <tr>\n",
              "      <th>Tues</th>\n",
              "      <td>3</td>\n",
              "      <td>3</td>\n",
              "      <td>7</td>\n",
              "    </tr>\n",
              "    <tr>\n",
              "      <th>Wed</th>\n",
              "      <td>9</td>\n",
              "      <td>19</td>\n",
              "      <td>18</td>\n",
              "    </tr>\n",
              "    <tr>\n",
              "      <th>Thurs</th>\n",
              "      <td>4</td>\n",
              "      <td>6</td>\n",
              "      <td>12</td>\n",
              "    </tr>\n",
              "    <tr>\n",
              "      <th>Fri</th>\n",
              "      <td>1</td>\n",
              "      <td>6</td>\n",
              "      <td>7</td>\n",
              "    </tr>\n",
              "  </tbody>\n",
              "</table>\n",
              "</div>"
            ],
            "text/plain": [
              "       Aloumd Butter  Peanut Butter  Cashew Butter\n",
              "Mon               12             15              0\n",
              "Tues               3              3              7\n",
              "Wed                9             19             18\n",
              "Thurs              4              6             12\n",
              "Fri                1              6              7"
            ]
          },
          "metadata": {
            "tags": []
          },
          "execution_count": 70
        }
      ]
    },
    {
      "cell_type": "code",
      "metadata": {
        "id": "sY_8wtmS1reN"
      },
      "source": [
        "#create a price array\n",
        "prices = np.array([10,8,12])"
      ],
      "id": "sY_8wtmS1reN",
      "execution_count": null,
      "outputs": []
    },
    {
      "cell_type": "code",
      "metadata": {
        "id": "dJZmB6LU1y8V"
      },
      "source": [
        "butter_prices = pd.DataFrame(prices.reshape(1,3), index = [\"Prices\"], columns=[\"Aloumnd Butter\", \"Chanh\", \"Quat\"])"
      ],
      "id": "dJZmB6LU1y8V",
      "execution_count": null,
      "outputs": []
    },
    {
      "cell_type": "code",
      "metadata": {
        "colab": {
          "base_uri": "https://localhost:8080/",
          "height": 80
        },
        "id": "zcimYjbL2byJ",
        "outputId": "2c1e17e8-a652-4b5a-97ea-4b27ddcc0e73"
      },
      "source": [
        "butter_prices"
      ],
      "id": "zcimYjbL2byJ",
      "execution_count": null,
      "outputs": [
        {
          "output_type": "execute_result",
          "data": {
            "text/html": [
              "<div>\n",
              "<style scoped>\n",
              "    .dataframe tbody tr th:only-of-type {\n",
              "        vertical-align: middle;\n",
              "    }\n",
              "\n",
              "    .dataframe tbody tr th {\n",
              "        vertical-align: top;\n",
              "    }\n",
              "\n",
              "    .dataframe thead th {\n",
              "        text-align: right;\n",
              "    }\n",
              "</style>\n",
              "<table border=\"1\" class=\"dataframe\">\n",
              "  <thead>\n",
              "    <tr style=\"text-align: right;\">\n",
              "      <th></th>\n",
              "      <th>Aloumnd Butter</th>\n",
              "      <th>Chanh</th>\n",
              "      <th>Quat</th>\n",
              "    </tr>\n",
              "  </thead>\n",
              "  <tbody>\n",
              "    <tr>\n",
              "      <th>Prices</th>\n",
              "      <td>10</td>\n",
              "      <td>8</td>\n",
              "      <td>12</td>\n",
              "    </tr>\n",
              "  </tbody>\n",
              "</table>\n",
              "</div>"
            ],
            "text/plain": [
              "        Aloumnd Butter  Chanh  Quat\n",
              "Prices              10      8    12"
            ]
          },
          "metadata": {
            "tags": []
          },
          "execution_count": 82
        }
      ]
    },
    {
      "cell_type": "code",
      "metadata": {
        "colab": {
          "base_uri": "https://localhost:8080/"
        },
        "id": "OXp_qcHd2k4I",
        "outputId": "f390b186-ce69-42ad-ad75-ed2b7d9cadbc"
      },
      "source": [
        "weekly_sales.shape, butter_prices.shape"
      ],
      "id": "OXp_qcHd2k4I",
      "execution_count": null,
      "outputs": [
        {
          "output_type": "execute_result",
          "data": {
            "text/plain": [
              "((5, 3), (1, 3))"
            ]
          },
          "metadata": {
            "tags": []
          },
          "execution_count": 84
        }
      ]
    },
    {
      "cell_type": "code",
      "metadata": {
        "id": "3NqQyMJa2vrT"
      },
      "source": [
        "cash = sales_amounts.dot(prices.T)"
      ],
      "id": "3NqQyMJa2vrT",
      "execution_count": null,
      "outputs": []
    },
    {
      "cell_type": "code",
      "metadata": {
        "colab": {
          "base_uri": "https://localhost:8080/"
        },
        "id": "_W2ExAmj3DDQ",
        "outputId": "a9d006a7-ef8c-4fe4-f2eb-f04c0deae1a0"
      },
      "source": [
        "cash"
      ],
      "id": "_W2ExAmj3DDQ",
      "execution_count": null,
      "outputs": [
        {
          "output_type": "execute_result",
          "data": {
            "text/plain": [
              "array([240, 138, 458, 232, 142])"
            ]
          },
          "metadata": {
            "tags": []
          },
          "execution_count": 87
        }
      ]
    },
    {
      "cell_type": "code",
      "metadata": {
        "id": "Qm2CraJN3H3n"
      },
      "source": [
        "day_cash = pd.DataFrame(cash.reshape(1,5), index = [\"Cash per day\"], columns=[\"Mon\", \"Tues\",\"Wed\",\"Thurs\", \"Fri\"])"
      ],
      "id": "Qm2CraJN3H3n",
      "execution_count": null,
      "outputs": []
    },
    {
      "cell_type": "code",
      "metadata": {
        "colab": {
          "base_uri": "https://localhost:8080/",
          "height": 80
        },
        "id": "cEMwVH8e3kA8",
        "outputId": "02c7274b-ff57-4a6b-d38f-813ed0e497a4"
      },
      "source": [
        "day_cash\n"
      ],
      "id": "cEMwVH8e3kA8",
      "execution_count": null,
      "outputs": [
        {
          "output_type": "execute_result",
          "data": {
            "text/html": [
              "<div>\n",
              "<style scoped>\n",
              "    .dataframe tbody tr th:only-of-type {\n",
              "        vertical-align: middle;\n",
              "    }\n",
              "\n",
              "    .dataframe tbody tr th {\n",
              "        vertical-align: top;\n",
              "    }\n",
              "\n",
              "    .dataframe thead th {\n",
              "        text-align: right;\n",
              "    }\n",
              "</style>\n",
              "<table border=\"1\" class=\"dataframe\">\n",
              "  <thead>\n",
              "    <tr style=\"text-align: right;\">\n",
              "      <th></th>\n",
              "      <th>Mon</th>\n",
              "      <th>Tues</th>\n",
              "      <th>Wed</th>\n",
              "      <th>Thurs</th>\n",
              "      <th>Fri</th>\n",
              "    </tr>\n",
              "  </thead>\n",
              "  <tbody>\n",
              "    <tr>\n",
              "      <th>Cash per day</th>\n",
              "      <td>240</td>\n",
              "      <td>138</td>\n",
              "      <td>458</td>\n",
              "      <td>232</td>\n",
              "      <td>142</td>\n",
              "    </tr>\n",
              "  </tbody>\n",
              "</table>\n",
              "</div>"
            ],
            "text/plain": [
              "              Mon  Tues  Wed  Thurs  Fri\n",
              "Cash per day  240   138  458    232  142"
            ]
          },
          "metadata": {
            "tags": []
          },
          "execution_count": 94
        }
      ]
    },
    {
      "cell_type": "code",
      "metadata": {
        "colab": {
          "base_uri": "https://localhost:8080/",
          "height": 203
        },
        "id": "JP9GziM_4KxP",
        "outputId": "6d58cccf-bd4b-4cb8-cd0d-d9ff12724e21"
      },
      "source": [
        "weekly_sales[\"Totals Price\"] = cash\n",
        "weekly_sales"
      ],
      "id": "JP9GziM_4KxP",
      "execution_count": null,
      "outputs": [
        {
          "output_type": "execute_result",
          "data": {
            "text/html": [
              "<div>\n",
              "<style scoped>\n",
              "    .dataframe tbody tr th:only-of-type {\n",
              "        vertical-align: middle;\n",
              "    }\n",
              "\n",
              "    .dataframe tbody tr th {\n",
              "        vertical-align: top;\n",
              "    }\n",
              "\n",
              "    .dataframe thead th {\n",
              "        text-align: right;\n",
              "    }\n",
              "</style>\n",
              "<table border=\"1\" class=\"dataframe\">\n",
              "  <thead>\n",
              "    <tr style=\"text-align: right;\">\n",
              "      <th></th>\n",
              "      <th>Aloumd Butter</th>\n",
              "      <th>Peanut Butter</th>\n",
              "      <th>Cashew Butter</th>\n",
              "      <th>Totals Price</th>\n",
              "    </tr>\n",
              "  </thead>\n",
              "  <tbody>\n",
              "    <tr>\n",
              "      <th>Mon</th>\n",
              "      <td>12</td>\n",
              "      <td>15</td>\n",
              "      <td>0</td>\n",
              "      <td>240</td>\n",
              "    </tr>\n",
              "    <tr>\n",
              "      <th>Tues</th>\n",
              "      <td>3</td>\n",
              "      <td>3</td>\n",
              "      <td>7</td>\n",
              "      <td>138</td>\n",
              "    </tr>\n",
              "    <tr>\n",
              "      <th>Wed</th>\n",
              "      <td>9</td>\n",
              "      <td>19</td>\n",
              "      <td>18</td>\n",
              "      <td>458</td>\n",
              "    </tr>\n",
              "    <tr>\n",
              "      <th>Thurs</th>\n",
              "      <td>4</td>\n",
              "      <td>6</td>\n",
              "      <td>12</td>\n",
              "      <td>232</td>\n",
              "    </tr>\n",
              "    <tr>\n",
              "      <th>Fri</th>\n",
              "      <td>1</td>\n",
              "      <td>6</td>\n",
              "      <td>7</td>\n",
              "      <td>142</td>\n",
              "    </tr>\n",
              "  </tbody>\n",
              "</table>\n",
              "</div>"
            ],
            "text/plain": [
              "       Aloumd Butter  Peanut Butter  Cashew Butter  Totals Price\n",
              "Mon               12             15              0           240\n",
              "Tues               3              3              7           138\n",
              "Wed                9             19             18           458\n",
              "Thurs              4              6             12           232\n",
              "Fri                1              6              7           142"
            ]
          },
          "metadata": {
            "tags": []
          },
          "execution_count": 95
        }
      ]
    }
  ]
}